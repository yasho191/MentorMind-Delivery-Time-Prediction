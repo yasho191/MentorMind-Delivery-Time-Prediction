{
 "cells": [
  {
   "cell_type": "markdown",
   "metadata": {},
   "source": [
    "# Restaurant Delivery Time Prediction\n",
    "\n",
    "### Task_3:\n",
    "1. Convert the problem into classification problem by seeing pattern in training set.\n",
    "\n",
    "### Team Name: The Brown Coders\n",
    "1. Yashowardhan Shinde\n",
    "2. Aryan Kenchappagol\n",
    "3. Akalbir Singh Chadha\n",
    "\n",
    "#### Aim: Predict the delivery time of a restaurant depending on different factors.\n",
    "#### Importing the necessary pacakges for data visualization and analysis:"
   ]
  },
  {
   "cell_type": "code",
   "execution_count": 1,
   "metadata": {},
   "outputs": [],
   "source": [
    "import pandas as pd\n",
    "import numpy as np\n",
    "import matplotlib.pyplot as plt\n",
    "import seaborn as sns\n",
    "%matplotlib inline"
   ]
  },
  {
   "cell_type": "markdown",
   "metadata": {},
   "source": [
    "#### Loading the dataset and checking the type of data in the data frame."
   ]
  },
  {
   "cell_type": "code",
   "execution_count": 2,
   "metadata": {},
   "outputs": [
    {
     "data": {
      "text/plain": [
       "Restaurant       object\n",
       "Location         object\n",
       "Cuisines         object\n",
       "Average_Cost     object\n",
       "Minimum_Order    object\n",
       "Rating           object\n",
       "Votes            object\n",
       "Reviews          object\n",
       "Delivery_Time    object\n",
       "dtype: object"
      ]
     },
     "execution_count": 2,
     "metadata": {},
     "output_type": "execute_result"
    }
   ],
   "source": [
    "df = pd.read_excel(\"data_train.xlsx\")\n",
    "df.dtypes"
   ]
  },
  {
   "cell_type": "code",
   "execution_count": 3,
   "metadata": {},
   "outputs": [
    {
     "data": {
      "text/html": [
       "<div>\n",
       "<style scoped>\n",
       "    .dataframe tbody tr th:only-of-type {\n",
       "        vertical-align: middle;\n",
       "    }\n",
       "\n",
       "    .dataframe tbody tr th {\n",
       "        vertical-align: top;\n",
       "    }\n",
       "\n",
       "    .dataframe thead th {\n",
       "        text-align: right;\n",
       "    }\n",
       "</style>\n",
       "<table border=\"1\" class=\"dataframe\">\n",
       "  <thead>\n",
       "    <tr style=\"text-align: right;\">\n",
       "      <th></th>\n",
       "      <th>Restaurant</th>\n",
       "      <th>Location</th>\n",
       "      <th>Cuisines</th>\n",
       "      <th>Average_Cost</th>\n",
       "      <th>Minimum_Order</th>\n",
       "      <th>Rating</th>\n",
       "      <th>Votes</th>\n",
       "      <th>Reviews</th>\n",
       "      <th>Delivery_Time</th>\n",
       "    </tr>\n",
       "  </thead>\n",
       "  <tbody>\n",
       "    <tr>\n",
       "      <th>0</th>\n",
       "      <td>ID_6321</td>\n",
       "      <td>FTI College, Law College Road, Pune</td>\n",
       "      <td>Fast Food, Rolls, Burger, Salad, Wraps</td>\n",
       "      <td>₹200</td>\n",
       "      <td>₹50</td>\n",
       "      <td>3.5</td>\n",
       "      <td>12</td>\n",
       "      <td>4</td>\n",
       "      <td>30 minutes</td>\n",
       "    </tr>\n",
       "    <tr>\n",
       "      <th>1</th>\n",
       "      <td>ID_2882</td>\n",
       "      <td>Sector 3, Marathalli</td>\n",
       "      <td>Ice Cream, Desserts</td>\n",
       "      <td>₹100</td>\n",
       "      <td>₹50</td>\n",
       "      <td>3.5</td>\n",
       "      <td>11</td>\n",
       "      <td>4</td>\n",
       "      <td>30 minutes</td>\n",
       "    </tr>\n",
       "    <tr>\n",
       "      <th>2</th>\n",
       "      <td>ID_1595</td>\n",
       "      <td>Mumbai Central</td>\n",
       "      <td>Italian, Street Food, Fast Food</td>\n",
       "      <td>₹150</td>\n",
       "      <td>₹50</td>\n",
       "      <td>3.6</td>\n",
       "      <td>99</td>\n",
       "      <td>30</td>\n",
       "      <td>65 minutes</td>\n",
       "    </tr>\n",
       "    <tr>\n",
       "      <th>3</th>\n",
       "      <td>ID_5929</td>\n",
       "      <td>Sector 1, Noida</td>\n",
       "      <td>Mughlai, North Indian, Chinese</td>\n",
       "      <td>₹250</td>\n",
       "      <td>₹99</td>\n",
       "      <td>3.7</td>\n",
       "      <td>176</td>\n",
       "      <td>95</td>\n",
       "      <td>30 minutes</td>\n",
       "    </tr>\n",
       "    <tr>\n",
       "      <th>4</th>\n",
       "      <td>ID_6123</td>\n",
       "      <td>Rmz Centennial, I Gate, Whitefield</td>\n",
       "      <td>Cafe, Beverages</td>\n",
       "      <td>₹200</td>\n",
       "      <td>₹99</td>\n",
       "      <td>3.2</td>\n",
       "      <td>521</td>\n",
       "      <td>235</td>\n",
       "      <td>65 minutes</td>\n",
       "    </tr>\n",
       "  </tbody>\n",
       "</table>\n",
       "</div>"
      ],
      "text/plain": [
       "  Restaurant                             Location  \\\n",
       "0    ID_6321  FTI College, Law College Road, Pune   \n",
       "1    ID_2882                 Sector 3, Marathalli   \n",
       "2    ID_1595                       Mumbai Central   \n",
       "3    ID_5929                      Sector 1, Noida   \n",
       "4    ID_6123   Rmz Centennial, I Gate, Whitefield   \n",
       "\n",
       "                                 Cuisines Average_Cost Minimum_Order Rating  \\\n",
       "0  Fast Food, Rolls, Burger, Salad, Wraps         ₹200           ₹50    3.5   \n",
       "1                     Ice Cream, Desserts         ₹100           ₹50    3.5   \n",
       "2         Italian, Street Food, Fast Food         ₹150           ₹50    3.6   \n",
       "3          Mughlai, North Indian, Chinese         ₹250           ₹99    3.7   \n",
       "4                         Cafe, Beverages         ₹200           ₹99    3.2   \n",
       "\n",
       "  Votes Reviews Delivery_Time  \n",
       "0    12       4    30 minutes  \n",
       "1    11       4    30 minutes  \n",
       "2    99      30    65 minutes  \n",
       "3   176      95    30 minutes  \n",
       "4   521     235    65 minutes  "
      ]
     },
     "execution_count": 3,
     "metadata": {},
     "output_type": "execute_result"
    }
   ],
   "source": [
    "df.head()"
   ]
  },
  {
   "cell_type": "markdown",
   "metadata": {},
   "source": [
    "### We can observe the data is not in numerical format.\n",
    "#### Converting this data into numerical format and cleaning the data.\n",
    "1. Removing NULL values from Different columns.\n",
    "2. Filling the cells with - with the mean of that column."
   ]
  },
  {
   "cell_type": "code",
   "execution_count": 4,
   "metadata": {},
   "outputs": [
    {
     "data": {
      "text/html": [
       "<div>\n",
       "<style scoped>\n",
       "    .dataframe tbody tr th:only-of-type {\n",
       "        vertical-align: middle;\n",
       "    }\n",
       "\n",
       "    .dataframe tbody tr th {\n",
       "        vertical-align: top;\n",
       "    }\n",
       "\n",
       "    .dataframe thead th {\n",
       "        text-align: right;\n",
       "    }\n",
       "</style>\n",
       "<table border=\"1\" class=\"dataframe\">\n",
       "  <thead>\n",
       "    <tr style=\"text-align: right;\">\n",
       "      <th></th>\n",
       "      <th>Restaurant</th>\n",
       "      <th>Location</th>\n",
       "      <th>Cuisines</th>\n",
       "      <th>Average_Cost</th>\n",
       "      <th>Minimum_Order</th>\n",
       "      <th>Rating</th>\n",
       "      <th>Votes</th>\n",
       "      <th>Reviews</th>\n",
       "      <th>Delivery_Time</th>\n",
       "    </tr>\n",
       "  </thead>\n",
       "  <tbody>\n",
       "    <tr>\n",
       "      <th>0</th>\n",
       "      <td>ID_6321</td>\n",
       "      <td>24</td>\n",
       "      <td>5</td>\n",
       "      <td>200</td>\n",
       "      <td>50</td>\n",
       "      <td>3.5</td>\n",
       "      <td>12</td>\n",
       "      <td>4</td>\n",
       "      <td>30</td>\n",
       "    </tr>\n",
       "    <tr>\n",
       "      <th>1</th>\n",
       "      <td>ID_2882</td>\n",
       "      <td>12</td>\n",
       "      <td>2</td>\n",
       "      <td>100</td>\n",
       "      <td>50</td>\n",
       "      <td>3.5</td>\n",
       "      <td>11</td>\n",
       "      <td>4</td>\n",
       "      <td>30</td>\n",
       "    </tr>\n",
       "    <tr>\n",
       "      <th>2</th>\n",
       "      <td>ID_1595</td>\n",
       "      <td>2</td>\n",
       "      <td>3</td>\n",
       "      <td>150</td>\n",
       "      <td>50</td>\n",
       "      <td>3.6</td>\n",
       "      <td>99</td>\n",
       "      <td>30</td>\n",
       "      <td>65</td>\n",
       "    </tr>\n",
       "    <tr>\n",
       "      <th>3</th>\n",
       "      <td>ID_5929</td>\n",
       "      <td>22</td>\n",
       "      <td>3</td>\n",
       "      <td>250</td>\n",
       "      <td>99</td>\n",
       "      <td>3.7</td>\n",
       "      <td>176</td>\n",
       "      <td>95</td>\n",
       "      <td>30</td>\n",
       "    </tr>\n",
       "    <tr>\n",
       "      <th>4</th>\n",
       "      <td>ID_6123</td>\n",
       "      <td>10</td>\n",
       "      <td>2</td>\n",
       "      <td>200</td>\n",
       "      <td>99</td>\n",
       "      <td>3.2</td>\n",
       "      <td>521</td>\n",
       "      <td>235</td>\n",
       "      <td>65</td>\n",
       "    </tr>\n",
       "    <tr>\n",
       "      <th>5</th>\n",
       "      <td>ID_5221</td>\n",
       "      <td>10</td>\n",
       "      <td>3</td>\n",
       "      <td>150</td>\n",
       "      <td>50</td>\n",
       "      <td>3.8</td>\n",
       "      <td>46</td>\n",
       "      <td>18</td>\n",
       "      <td>30</td>\n",
       "    </tr>\n",
       "    <tr>\n",
       "      <th>6</th>\n",
       "      <td>ID_3777</td>\n",
       "      <td>2</td>\n",
       "      <td>2</td>\n",
       "      <td>150</td>\n",
       "      <td>50</td>\n",
       "      <td>3.7</td>\n",
       "      <td>108</td>\n",
       "      <td>31</td>\n",
       "      <td>30</td>\n",
       "    </tr>\n",
       "    <tr>\n",
       "      <th>7</th>\n",
       "      <td>ID_745</td>\n",
       "      <td>16</td>\n",
       "      <td>3</td>\n",
       "      <td>650</td>\n",
       "      <td>50</td>\n",
       "      <td>4.0</td>\n",
       "      <td>1731</td>\n",
       "      <td>1235</td>\n",
       "      <td>45</td>\n",
       "    </tr>\n",
       "    <tr>\n",
       "      <th>8</th>\n",
       "      <td>ID_2970</td>\n",
       "      <td>16</td>\n",
       "      <td>2</td>\n",
       "      <td>100</td>\n",
       "      <td>50</td>\n",
       "      <td>3.9</td>\n",
       "      <td>110</td>\n",
       "      <td>26</td>\n",
       "      <td>30</td>\n",
       "    </tr>\n",
       "    <tr>\n",
       "      <th>9</th>\n",
       "      <td>ID_3474</td>\n",
       "      <td>22</td>\n",
       "      <td>6</td>\n",
       "      <td>200</td>\n",
       "      <td>50</td>\n",
       "      <td>3.9</td>\n",
       "      <td>562</td>\n",
       "      <td>294</td>\n",
       "      <td>65</td>\n",
       "    </tr>\n",
       "  </tbody>\n",
       "</table>\n",
       "</div>"
      ],
      "text/plain": [
       "  Restaurant  Location  Cuisines  Average_Cost  Minimum_Order  Rating  Votes  \\\n",
       "0    ID_6321        24         5           200             50     3.5     12   \n",
       "1    ID_2882        12         2           100             50     3.5     11   \n",
       "2    ID_1595         2         3           150             50     3.6     99   \n",
       "3    ID_5929        22         3           250             99     3.7    176   \n",
       "4    ID_6123        10         2           200             99     3.2    521   \n",
       "5    ID_5221        10         3           150             50     3.8     46   \n",
       "6    ID_3777         2         2           150             50     3.7    108   \n",
       "7     ID_745        16         3           650             50     4.0   1731   \n",
       "8    ID_2970        16         2           100             50     3.9    110   \n",
       "9    ID_3474        22         6           200             50     3.9    562   \n",
       "\n",
       "   Reviews  Delivery_Time  \n",
       "0        4             30  \n",
       "1        4             30  \n",
       "2       30             65  \n",
       "3       95             30  \n",
       "4      235             65  \n",
       "5       18             30  \n",
       "6       31             30  \n",
       "7     1235             45  \n",
       "8       26             30  \n",
       "9      294             65  "
      ]
     },
     "execution_count": 4,
     "metadata": {},
     "output_type": "execute_result"
    }
   ],
   "source": [
    "# Drop the New Restaurants with no data\n",
    "for i in range(len(df)-1, -1, -1):\n",
    "    if df.iloc[i, 5] == \"NEW\":\n",
    "        df.drop(index = [i], inplace = True)\n",
    "df.head(10)\n",
    "df.index = [i for i in range(len(df))]\n",
    "#df.index\n",
    "\n",
    "# Average_Cost Column\n",
    "# avg_cost = set(df[\"Average_Cost\"])\n",
    "avg_cost = list(df[\"Average_Cost\"])\n",
    "for i in range(len(df)):\n",
    "    if len(avg_cost[i]) == 6:\n",
    "        avg_cost[i] = int(avg_cost[i][1]+avg_cost[i][3:])\n",
    "    else:\n",
    "        avg_cost[i] = int(avg_cost[i][1:])\n",
    "df[\"Average_Cost\"] = avg_cost\n",
    "#df.head()\n",
    "\n",
    "\n",
    "# Minimum_Cost Column\n",
    "# Removing the prefix\n",
    "min_cost = set(df[\"Minimum_Order\"])\n",
    "min_cost = list(df[\"Minimum_Order\"])\n",
    "\n",
    "for i in range(len(df)):\n",
    "    min_cost[i] = int(min_cost[i][1:])\n",
    "    \n",
    "df[\"Minimum_Order\"] = min_cost\n",
    "#df.head()\n",
    "\n",
    "\n",
    "# Votes and Reviews Column:\n",
    "# These columns have - values therefore convert them to int (0)\n",
    "# Reiterate over the column and assign the cell with value 0 mean value of that column\n",
    "x = list(df[\"Votes\"])\n",
    "y = list(df[\"Reviews\"])\n",
    "for i in range(0, len(x)):\n",
    "    try:\n",
    "        x[i] = int(x[i])\n",
    "    except:\n",
    "        x[i] = 0\n",
    "    \n",
    "for i in range(0, len(y)):\n",
    "    try:\n",
    "        y[i] = int(y[i])\n",
    "    except:\n",
    "        y[i] = 0\n",
    "        \n",
    "ex_x = x.count(0)\n",
    "ex_y = y.count(0)\n",
    "mean_x = int(sum(x)/(len(x)-ex_x))\n",
    "mean_y = int(sum(y)/(len(y)-ex_y))\n",
    "\n",
    "for j in range(len(x)):\n",
    "    if x[j] == 0:\n",
    "        x[j] = mean_x\n",
    "\n",
    "for j in range(len(y)):\n",
    "    if y[j] == 0:\n",
    "        y[j] = mean_y\n",
    "        \n",
    "#ex_x = x.count(0)\n",
    "#ex_y = y.count(0)\n",
    "#ex_x, ex_y\n",
    "\n",
    "df[\"Votes\"] = x\n",
    "df[\"Reviews\"] = y\n",
    "#df.head(10)\n",
    "\n",
    "# Delivery_Time Column:\n",
    "# Time is in form of string so removing the prefix and conerting it to int data\n",
    "time = list(df[\"Delivery_Time\"])\n",
    "for i in range(len(df)):\n",
    "    time[i] = int(time[i][:2])\n",
    "    \n",
    "df[\"Delivery_Time\"] = time \n",
    "#df.head()\n",
    "\n",
    "# Location Column:\n",
    "# There are 35 different location therefore One Hot Encoding is not a practical option\n",
    "# Converting it to numerial data with each location having a unique numerical value\n",
    "# 1-35\n",
    "loc = list(set(df[\"Location\"]))\n",
    "map_loc = {}\n",
    "\n",
    "for i in range(len(loc)):\n",
    "    map_loc[loc[i]] = i+1\n",
    "    \n",
    "#map_loc\n",
    "loc = list(df[\"Location\"])\n",
    "\n",
    "for i in range(0, len(df)):\n",
    "    loc[i] = map_loc[loc[i]]\n",
    "    \n",
    "df[\"Location\"] = loc\n",
    "#df.head(10)\n",
    "\n",
    "\n",
    "# Cuisine Column:\n",
    "# The individual cuisines cannot be analysed therefore converting it to a numerical quantity\n",
    "# Instead of individual cuisines considering the number of cuisines a restaurant serves\n",
    "food = list(df[\"Cuisines\"])\n",
    "\n",
    "for i in range(len(food)):\n",
    "    x = list(food[i].split(\", \"))\n",
    "    food[i] = len(x)\n",
    "    \n",
    "df[\"Cuisines\"] = food\n",
    "\n",
    "\n",
    "# Rating Column\n",
    "# This column has many string values along with numerical data\n",
    "# Dropping the string data rows\n",
    "d = list(set(df[\"Rating\"]))\n",
    "d.sort()\n",
    "for i in range(len(df)-1,0,-1):\n",
    "    if df.iloc[i, 5] == d[-1] or df.iloc[i, 5] == d[-2] or df.iloc[i, 5] == d[0]:\n",
    "        df.drop(i, inplace = True)\n",
    "        \n",
    "d = list(set(df[\"Rating\"]))\n",
    "d.sort()\n",
    "\n",
    "d = list(df[\"Rating\"])\n",
    "d = list(map(float, d))\n",
    "df[\"Rating\"] = d\n",
    "df.dropna(inplace = True)\n",
    "df.index = [i for i in range(len(df))]\n",
    "\n",
    "df.head(10)"
   ]
  },
  {
   "cell_type": "markdown",
   "metadata": {},
   "source": [
    "## Data Visualization:\n",
    "\n",
    "#### Scatter Plot:\n",
    "\n",
    "   Plot a scatter plot of Delivery Time with every other quantity to find relations between those quantities.\n",
    " "
   ]
  },
  {
   "cell_type": "code",
   "execution_count": 5,
   "metadata": {},
   "outputs": [
    {
     "data": {
      "image/png": "[encoded data removed]",
      "text/plain": [
       "<Figure size 936x432 with 2 Axes>"
      ]
     },
     "metadata": {
      "needs_background": "light"
     },
     "output_type": "display_data"
    }
   ],
   "source": [
    "fig = plt.figure(figsize =(13,6))\n",
    "plt.subplot(1,2,1)\n",
    "x = list(df[\"Cuisines\"])\n",
    "y = list(df[\"Delivery_Time\"])\n",
    "plt.scatter(x, y, color = 'r')\n",
    "plt.xlabel(\"Number of Cuisines\")\n",
    "plt.ylabel(\"Delivery Time In Minutes\")\n",
    "plt.title(\"Number of Cuisines Vs Delivery Time\")\n",
    "\n",
    "#plt.show()\n",
    "\n",
    "plt.subplot(1,2,2)\n",
    "x1 = list(df[\"Average_Cost\"])\n",
    "y1 = list(df[\"Delivery_Time\"])\n",
    "plt.scatter(x1, y1, color = 'g')\n",
    "plt.xlabel(\"Average Cost\")\n",
    "plt.ylabel(\"Delivery Time In Minutes\")\n",
    "plt.title(\"Average Cost Vs Delivery Time\")\n",
    "plt.tight_layout()\n",
    "plt.show()"
   ]
  },
  {
   "cell_type": "code",
   "execution_count": 6,
   "metadata": {},
   "outputs": [
    {
     "data": {
      "text/plain": [
       "[]"
      ]
     },
     "execution_count": 6,
     "metadata": {},
     "output_type": "execute_result"
    },
    {
     "data": {
      "image/png": "[encoded data removed]",
      "text/plain": [
       "<Figure size 936x432 with 2 Axes>"
      ]
     },
     "metadata": {
      "needs_background": "light"
     },
     "output_type": "display_data"
    }
   ],
   "source": [
    "fig = plt.figure(figsize =(13,6))\n",
    "plt.subplot(1,2,1)\n",
    "x = list(df[\"Minimum_Order\"])\n",
    "y = list(df[\"Delivery_Time\"])\n",
    "plt.scatter(x, y, color = 'b')\n",
    "plt.xlabel(\"Minimum Order\")\n",
    "plt.ylabel(\"Delivery Time In Minutes\")\n",
    "plt.title(\"Minimum Order Vs Delivery Time\")\n",
    "#plt.plot()\n",
    "\n",
    "plt.subplot(1,2,2)\n",
    "x = list(df[\"Rating\"])\n",
    "y = list(df[\"Delivery_Time\"])\n",
    "plt.scatter(x, y, color = 'y')\n",
    "plt.xlabel(\"Rating\")\n",
    "plt.ylabel(\"Delivery Time In Minutes\")\n",
    "plt.title(\"Rating Vs Delivery Time\")\n",
    "plt.tight_layout()\n",
    "plt.plot()"
   ]
  },
  {
   "cell_type": "code",
   "execution_count": 7,
   "metadata": {},
   "outputs": [
    {
     "data": {
      "text/plain": [
       "[]"
      ]
     },
     "execution_count": 7,
     "metadata": {},
     "output_type": "execute_result"
    },
    {
     "data": {
      "image/png": "[encoded data removed]",
      "text/plain": [
       "<Figure size 936x432 with 2 Axes>"
      ]
     },
     "metadata": {
      "needs_background": "light"
     },
     "output_type": "display_data"
    }
   ],
   "source": [
    "fig = plt.figure(figsize =(13, 6))\n",
    "plt.subplot(1,2,1)\n",
    "x = list(df[\"Votes\"])\n",
    "y = list(df[\"Delivery_Time\"])\n",
    "plt.scatter(x, y, color = 'orange')\n",
    "plt.xlabel(\"Votes\")\n",
    "plt.ylabel(\"Delivery Time In Minutes\")\n",
    "plt.title(\"Votes Vs Delivery Time\")\n",
    "plt.plot()\n",
    "\n",
    "plt.subplot(1,2,2)\n",
    "x = list(df[\"Reviews\"])\n",
    "y = list(df[\"Delivery_Time\"])\n",
    "plt.scatter(x, y, color = 'pink')\n",
    "plt.xlabel(\"Reviews\")\n",
    "plt.ylabel(\"Delivery Time In Minutes\")\n",
    "plt.title(\"Reviews Vs Delivery Time\")\n",
    "plt.tight_layout()\n",
    "plt.plot()"
   ]
  },
  {
   "cell_type": "markdown",
   "metadata": {},
   "source": [
    "**We can see in all the scatter plot that there isn't a Linear Relation between Delivery Time and other quantities so Linear Regression is not an option here we will have to choose some other model to predict the Delivery Time**"
   ]
  },
  {
   "cell_type": "markdown",
   "metadata": {},
   "source": [
    "### Heatmap:\n",
    "The heat map will give a clear idea of how different quantities aredependent on each other."
   ]
  },
  {
   "cell_type": "code",
   "execution_count": 8,
   "metadata": {},
   "outputs": [
    {
     "data": {
      "text/plain": [
       "[]"
      ]
     },
     "execution_count": 8,
     "metadata": {},
     "output_type": "execute_result"
    },
    {
     "data": {
      "image/png": "[encoded data removed]",
      "text/plain": [
       "<Figure size 432x288 with 2 Axes>"
      ]
     },
     "metadata": {
      "needs_background": "light"
     },
     "output_type": "display_data"
    }
   ],
   "source": [
    "sns.heatmap(df.corr(), annot = True)\n",
    "plt.plot()"
   ]
  },
  {
   "cell_type": "markdown",
   "metadata": {},
   "source": [
    "**As we can see from the heat map above the delivery time is not dependent on the location so we can drop this column and we also observe that Reviews and Votes have a very high relation so both the columns will have similar effect on delivery time so we can drop one of the columns here I will drop the Reviews**"
   ]
  },
  {
   "cell_type": "code",
   "execution_count": 9,
   "metadata": {},
   "outputs": [
    {
     "data": {
      "text/html": [
       "<div>\n",
       "<style scoped>\n",
       "    .dataframe tbody tr th:only-of-type {\n",
       "        vertical-align: middle;\n",
       "    }\n",
       "\n",
       "    .dataframe tbody tr th {\n",
       "        vertical-align: top;\n",
       "    }\n",
       "\n",
       "    .dataframe thead th {\n",
       "        text-align: right;\n",
       "    }\n",
       "</style>\n",
       "<table border=\"1\" class=\"dataframe\">\n",
       "  <thead>\n",
       "    <tr style=\"text-align: right;\">\n",
       "      <th></th>\n",
       "      <th>Restaurant</th>\n",
       "      <th>Cuisines</th>\n",
       "      <th>Average_Cost</th>\n",
       "      <th>Minimum_Order</th>\n",
       "      <th>Rating</th>\n",
       "      <th>Votes</th>\n",
       "      <th>Delivery_Time</th>\n",
       "    </tr>\n",
       "  </thead>\n",
       "  <tbody>\n",
       "    <tr>\n",
       "      <th>0</th>\n",
       "      <td>ID_6321</td>\n",
       "      <td>5</td>\n",
       "      <td>200</td>\n",
       "      <td>50</td>\n",
       "      <td>3.5</td>\n",
       "      <td>12</td>\n",
       "      <td>30</td>\n",
       "    </tr>\n",
       "    <tr>\n",
       "      <th>1</th>\n",
       "      <td>ID_2882</td>\n",
       "      <td>2</td>\n",
       "      <td>100</td>\n",
       "      <td>50</td>\n",
       "      <td>3.5</td>\n",
       "      <td>11</td>\n",
       "      <td>30</td>\n",
       "    </tr>\n",
       "    <tr>\n",
       "      <th>2</th>\n",
       "      <td>ID_1595</td>\n",
       "      <td>3</td>\n",
       "      <td>150</td>\n",
       "      <td>50</td>\n",
       "      <td>3.6</td>\n",
       "      <td>99</td>\n",
       "      <td>65</td>\n",
       "    </tr>\n",
       "    <tr>\n",
       "      <th>3</th>\n",
       "      <td>ID_5929</td>\n",
       "      <td>3</td>\n",
       "      <td>250</td>\n",
       "      <td>99</td>\n",
       "      <td>3.7</td>\n",
       "      <td>176</td>\n",
       "      <td>30</td>\n",
       "    </tr>\n",
       "    <tr>\n",
       "      <th>4</th>\n",
       "      <td>ID_6123</td>\n",
       "      <td>2</td>\n",
       "      <td>200</td>\n",
       "      <td>99</td>\n",
       "      <td>3.2</td>\n",
       "      <td>521</td>\n",
       "      <td>65</td>\n",
       "    </tr>\n",
       "  </tbody>\n",
       "</table>\n",
       "</div>"
      ],
      "text/plain": [
       "  Restaurant  Cuisines  Average_Cost  Minimum_Order  Rating  Votes  \\\n",
       "0    ID_6321         5           200             50     3.5     12   \n",
       "1    ID_2882         2           100             50     3.5     11   \n",
       "2    ID_1595         3           150             50     3.6     99   \n",
       "3    ID_5929         3           250             99     3.7    176   \n",
       "4    ID_6123         2           200             99     3.2    521   \n",
       "\n",
       "   Delivery_Time  \n",
       "0             30  \n",
       "1             30  \n",
       "2             65  \n",
       "3             30  \n",
       "4             65  "
      ]
     },
     "execution_count": 9,
     "metadata": {},
     "output_type": "execute_result"
    }
   ],
   "source": [
    "df.drop(columns=[\"Location\", \"Reviews\"], inplace = True)\n",
    "df.head()"
   ]
  },
  {
   "cell_type": "markdown",
   "metadata": {},
   "source": [
    "### Box Plot:\n",
    "Using the box plot we can get to know about the outliers in our dataset and we can remove these outliers"
   ]
  },
  {
   "cell_type": "code",
   "execution_count": 10,
   "metadata": {},
   "outputs": [
    {
     "data": {
      "image/png": "[encoded data removed]",
      "text/plain": [
       "<Figure size 864x360 with 1 Axes>"
      ]
     },
     "metadata": {
      "needs_background": "light"
     },
     "output_type": "display_data"
    }
   ],
   "source": [
    "figure = plt.figure(figsize = (12, 5))\n",
    "sns.boxplot(data = df.iloc[:, 1:7])\n",
    "plt.show()"
   ]
  },
  {
   "cell_type": "markdown",
   "metadata": {},
   "source": [
    "**From the above boxplot it is clear that there are many outliers and these need to be fixed so we will remove all the outlier values**"
   ]
  },
  {
   "cell_type": "code",
   "execution_count": 11,
   "metadata": {},
   "outputs": [],
   "source": [
    "for i in range(len(df)-1, -1, -1):\n",
    "    if df.iloc[i, 4] > 130 or df.iloc[i, 2] > 300 or df.iloc[i, 5] > 78 or df.iloc[i, 3] > 100:\n",
    "        df.drop(index = i, inplace = True)\n",
    "       "
   ]
  },
  {
   "cell_type": "code",
   "execution_count": 12,
   "metadata": {},
   "outputs": [
    {
     "data": {
      "image/png": "[encoded data removed]",
      "text/plain": [
       "<Figure size 864x360 with 1 Axes>"
      ]
     },
     "metadata": {
      "needs_background": "light"
     },
     "output_type": "display_data"
    }
   ],
   "source": [
    "figure = plt.figure(figsize = (12, 5))\n",
    "sns.boxplot(data = df.iloc[:, 1:7])\n",
    "plt.show()"
   ]
  },
  {
   "cell_type": "markdown",
   "metadata": {},
   "source": [
    "**After removing most of the outliers the box plot looks like the one above graph we have a few outliers in the Minimum Order category and Delivery time but we won't do anything about these as Delivery Time is Our Target Variable.**"
   ]
  },
  {
   "cell_type": "markdown",
   "metadata": {},
   "source": [
    "**From the above graphs like the scatter plots it is observed that we can segregate the data into 4-5 categories and so we will convert out delivery time column into categorical data**\n",
    "\n",
    "1. Category 1: 0  <= Time <= 29\n",
    "2. Category 2: 30 <= Time <= 39\n",
    "3. Category 3: 40 <= Time <= 59\n",
    "4. Category 4: 60 <= Time"
   ]
  },
  {
   "cell_type": "code",
   "execution_count": 13,
   "metadata": {},
   "outputs": [],
   "source": [
    "for i in range(len(df)-1, -1, -1):\n",
    "    if 0 <= df.iloc[i, 6] <= 29:\n",
    "        df.iloc[i, 6] = 0\n",
    "    elif 30 <= df.iloc[i, 6] <= 39:\n",
    "        df.iloc[i, 6] = 1\n",
    "    elif 40 <= df.iloc[i, 6] <= 59:\n",
    "        df.iloc[i, 6] = 2\n",
    "    elif 60 <= df.iloc[i, 6]:\n",
    "        df.iloc[i, 6] = 3"
   ]
  },
  {
   "cell_type": "markdown",
   "metadata": {},
   "source": [
    "### Data Preparation for Feeding the Data to our Model:\n",
    "\n",
    "Using the Train Test Split Model From Sklearn library we will divide the Data In ratio 2:1 that is 67% training data and 33% testing data."
   ]
  },
  {
   "cell_type": "code",
   "execution_count": 14,
   "metadata": {},
   "outputs": [],
   "source": [
    "X = df.iloc[:, 1:6].values\n",
    "#X = X.reshape(-1,1)\n",
    "Y = df.iloc[:, 6].values\n",
    "df.head()\n",
    "\n",
    "from sklearn.model_selection import train_test_split\n",
    "from sklearn import metrics\n",
    "\n",
    "x_train, x_test, y_train, y_test = train_test_split(X, Y, test_size = 0.33, random_state = 42)"
   ]
  },
  {
   "cell_type": "markdown",
   "metadata": {},
   "source": [
    "### Selecting a Model for our Data:\n",
    "\n",
    "**Available Models:**\n",
    "\n",
    "1. KNN\n",
    "2. Naive Bayes\n",
    "3. Logistic Regression\n",
    "4. SVM\n",
    "5. Decision Tree\n",
    "6. Random Forest\n",
    "\n",
    "**We will be checking accurracy of all the available models and choose the one with Highest Accuracy and Lowest MAE Score.**\n",
    "\n",
    "**It is expected that Decision Tree and Random Forest would be the best fit for the available data.** "
   ]
  },
  {
   "cell_type": "code",
   "execution_count": 15,
   "metadata": {},
   "outputs": [
    {
     "name": "stdout",
     "output_type": "stream",
     "text": [
      "0.2708860759493671\n",
      "\n",
      "The accuracy of the classifier is: 0.7810126582278482\n"
     ]
    },
    {
     "data": {
      "text/html": [
       "<div>\n",
       "<style scoped>\n",
       "    .dataframe tbody tr th:only-of-type {\n",
       "        vertical-align: middle;\n",
       "    }\n",
       "\n",
       "    .dataframe tbody tr th {\n",
       "        vertical-align: top;\n",
       "    }\n",
       "\n",
       "    .dataframe thead th {\n",
       "        text-align: right;\n",
       "    }\n",
       "</style>\n",
       "<table border=\"1\" class=\"dataframe\">\n",
       "  <thead>\n",
       "    <tr style=\"text-align: right;\">\n",
       "      <th></th>\n",
       "      <th>Original</th>\n",
       "      <th>Predicted</th>\n",
       "      <th>Diff</th>\n",
       "    </tr>\n",
       "  </thead>\n",
       "  <tbody>\n",
       "    <tr>\n",
       "      <th>0</th>\n",
       "      <td>1</td>\n",
       "      <td>1</td>\n",
       "      <td>0</td>\n",
       "    </tr>\n",
       "    <tr>\n",
       "      <th>1</th>\n",
       "      <td>1</td>\n",
       "      <td>1</td>\n",
       "      <td>0</td>\n",
       "    </tr>\n",
       "    <tr>\n",
       "      <th>2</th>\n",
       "      <td>1</td>\n",
       "      <td>1</td>\n",
       "      <td>0</td>\n",
       "    </tr>\n",
       "    <tr>\n",
       "      <th>3</th>\n",
       "      <td>3</td>\n",
       "      <td>1</td>\n",
       "      <td>2</td>\n",
       "    </tr>\n",
       "    <tr>\n",
       "      <th>4</th>\n",
       "      <td>1</td>\n",
       "      <td>1</td>\n",
       "      <td>0</td>\n",
       "    </tr>\n",
       "  </tbody>\n",
       "</table>\n",
       "</div>"
      ],
      "text/plain": [
       "   Original  Predicted  Diff\n",
       "0         1          1     0\n",
       "1         1          1     0\n",
       "2         1          1     0\n",
       "3         3          1     2\n",
       "4         1          1     0"
      ]
     },
     "execution_count": 15,
     "metadata": {},
     "output_type": "execute_result"
    }
   ],
   "source": [
    "from sklearn.neighbors import KNeighborsClassifier\n",
    "\n",
    "classifier = KNeighborsClassifier(n_neighbors=4)\n",
    "classifier.fit(x_train, y_train)\n",
    "pred = classifier.predict(x_test)\n",
    "#print(pred)\n",
    "\n",
    "comp = pd.DataFrame({'Original':y_test, 'Predicted':pred})\n",
    "comp['Diff'] = comp['Original'] - comp['Predicted']\n",
    "\n",
    "score = metrics.r2_score(y_test, pred)\n",
    "score = classifier.score(x_test, y_test)\n",
    "\n",
    "mae = metrics.mean_absolute_error(y_test, pred)\n",
    "print(mae)\n",
    "\n",
    "print('\\nThe accuracy of the classifier is:', score)\n",
    "comp.head()"
   ]
  },
  {
   "cell_type": "markdown",
   "metadata": {},
   "source": [
    "**We can observe that we get an accuracy of about 78% and a MAE Score of 0.27 using KNN. Now we will check the accuracy using a Naive Bayes Classifier.**"
   ]
  },
  {
   "cell_type": "code",
   "execution_count": 16,
   "metadata": {},
   "outputs": [
    {
     "name": "stdout",
     "output_type": "stream",
     "text": [
      "0.2639240506329114\n",
      "\n",
      "The accuracy of the classifier is: 0.7987341772151899\n"
     ]
    },
    {
     "data": {
      "text/html": [
       "<div>\n",
       "<style scoped>\n",
       "    .dataframe tbody tr th:only-of-type {\n",
       "        vertical-align: middle;\n",
       "    }\n",
       "\n",
       "    .dataframe tbody tr th {\n",
       "        vertical-align: top;\n",
       "    }\n",
       "\n",
       "    .dataframe thead th {\n",
       "        text-align: right;\n",
       "    }\n",
       "</style>\n",
       "<table border=\"1\" class=\"dataframe\">\n",
       "  <thead>\n",
       "    <tr style=\"text-align: right;\">\n",
       "      <th></th>\n",
       "      <th>Original</th>\n",
       "      <th>Predicted</th>\n",
       "      <th>Diff</th>\n",
       "    </tr>\n",
       "  </thead>\n",
       "  <tbody>\n",
       "    <tr>\n",
       "      <th>0</th>\n",
       "      <td>1</td>\n",
       "      <td>1</td>\n",
       "      <td>0</td>\n",
       "    </tr>\n",
       "    <tr>\n",
       "      <th>1</th>\n",
       "      <td>1</td>\n",
       "      <td>1</td>\n",
       "      <td>0</td>\n",
       "    </tr>\n",
       "    <tr>\n",
       "      <th>2</th>\n",
       "      <td>1</td>\n",
       "      <td>1</td>\n",
       "      <td>0</td>\n",
       "    </tr>\n",
       "    <tr>\n",
       "      <th>3</th>\n",
       "      <td>3</td>\n",
       "      <td>1</td>\n",
       "      <td>2</td>\n",
       "    </tr>\n",
       "    <tr>\n",
       "      <th>4</th>\n",
       "      <td>1</td>\n",
       "      <td>1</td>\n",
       "      <td>0</td>\n",
       "    </tr>\n",
       "  </tbody>\n",
       "</table>\n",
       "</div>"
      ],
      "text/plain": [
       "   Original  Predicted  Diff\n",
       "0         1          1     0\n",
       "1         1          1     0\n",
       "2         1          1     0\n",
       "3         3          1     2\n",
       "4         1          1     0"
      ]
     },
     "execution_count": 16,
     "metadata": {},
     "output_type": "execute_result"
    }
   ],
   "source": [
    "from sklearn.naive_bayes import GaussianNB\n",
    "\n",
    "classifier = GaussianNB()\n",
    "classifier.fit(x_train, y_train)\n",
    "pred = classifier.predict(x_test)\n",
    "#print(pred)\n",
    "\n",
    "comp = pd.DataFrame({'Original':y_test, 'Predicted':pred})\n",
    "comp['Diff'] = comp['Original'] - comp['Predicted']\n",
    "\n",
    "score = metrics.r2_score(y_test, pred)\n",
    "score = classifier.score(x_test, y_test)\n",
    "\n",
    "mae = metrics.mean_absolute_error(y_test, pred)\n",
    "print(mae)\n",
    "\n",
    "print('\\nThe accuracy of the classifier is:', score)\n",
    "comp.head()\n"
   ]
  },
  {
   "cell_type": "markdown",
   "metadata": {},
   "source": [
    "**We can observe that we get an accuracy of about 79% and a MAE Score of 0.26 using Naive Bayes. Now we will check the accuracy using a Logistic Regression Classifier.**"
   ]
  },
  {
   "cell_type": "code",
   "execution_count": 17,
   "metadata": {},
   "outputs": [
    {
     "name": "stdout",
     "output_type": "stream",
     "text": [
      "0.2310126582278481\n",
      "\n",
      "The accuracy of the classifier is: 0.8094936708860759\n"
     ]
    },
    {
     "name": "stderr",
     "output_type": "stream",
     "text": [
      "c:\\users\\hp\\appdata\\local\\programs\\python\\python37\\lib\\site-packages\\sklearn\\linear_model\\_logistic.py:764: ConvergenceWarning: lbfgs failed to converge (status=1):\n",
      "STOP: TOTAL NO. of ITERATIONS REACHED LIMIT.\n",
      "\n",
      "Increase the number of iterations (max_iter) or scale the data as shown in:\n",
      "    https://scikit-learn.org/stable/modules/preprocessing.html\n",
      "Please also refer to the documentation for alternative solver options:\n",
      "    https://scikit-learn.org/stable/modules/linear_model.html#logistic-regression\n",
      "  extra_warning_msg=_LOGISTIC_SOLVER_CONVERGENCE_MSG)\n"
     ]
    },
    {
     "data": {
      "text/html": [
       "<div>\n",
       "<style scoped>\n",
       "    .dataframe tbody tr th:only-of-type {\n",
       "        vertical-align: middle;\n",
       "    }\n",
       "\n",
       "    .dataframe tbody tr th {\n",
       "        vertical-align: top;\n",
       "    }\n",
       "\n",
       "    .dataframe thead th {\n",
       "        text-align: right;\n",
       "    }\n",
       "</style>\n",
       "<table border=\"1\" class=\"dataframe\">\n",
       "  <thead>\n",
       "    <tr style=\"text-align: right;\">\n",
       "      <th></th>\n",
       "      <th>Original</th>\n",
       "      <th>Predicted</th>\n",
       "      <th>Diff</th>\n",
       "    </tr>\n",
       "  </thead>\n",
       "  <tbody>\n",
       "    <tr>\n",
       "      <th>0</th>\n",
       "      <td>1</td>\n",
       "      <td>1</td>\n",
       "      <td>0</td>\n",
       "    </tr>\n",
       "    <tr>\n",
       "      <th>1</th>\n",
       "      <td>1</td>\n",
       "      <td>1</td>\n",
       "      <td>0</td>\n",
       "    </tr>\n",
       "    <tr>\n",
       "      <th>2</th>\n",
       "      <td>1</td>\n",
       "      <td>1</td>\n",
       "      <td>0</td>\n",
       "    </tr>\n",
       "    <tr>\n",
       "      <th>3</th>\n",
       "      <td>3</td>\n",
       "      <td>1</td>\n",
       "      <td>2</td>\n",
       "    </tr>\n",
       "    <tr>\n",
       "      <th>4</th>\n",
       "      <td>1</td>\n",
       "      <td>1</td>\n",
       "      <td>0</td>\n",
       "    </tr>\n",
       "  </tbody>\n",
       "</table>\n",
       "</div>"
      ],
      "text/plain": [
       "   Original  Predicted  Diff\n",
       "0         1          1     0\n",
       "1         1          1     0\n",
       "2         1          1     0\n",
       "3         3          1     2\n",
       "4         1          1     0"
      ]
     },
     "execution_count": 17,
     "metadata": {},
     "output_type": "execute_result"
    }
   ],
   "source": [
    "from sklearn.linear_model import LogisticRegression\n",
    "\n",
    "classifier = LogisticRegression(penalty=\"l2\")\n",
    "classifier.fit(x_train, y_train)\n",
    "pred = classifier.predict(x_test)\n",
    "#print(pred)\n",
    "\n",
    "comp = pd.DataFrame({'Original':y_test, 'Predicted':pred})\n",
    "comp['Diff'] = comp['Original'] - comp['Predicted']\n",
    "\n",
    "score = metrics.r2_score(y_test, pred)\n",
    "score = classifier.score(x_test, y_test)\n",
    "\n",
    "mae = metrics.mean_absolute_error(y_test, pred)\n",
    "print(mae)\n",
    "\n",
    "print('\\nThe accuracy of the classifier is:', score)\n",
    "comp.head()\n"
   ]
  },
  {
   "cell_type": "markdown",
   "metadata": {},
   "source": [
    "**We can observe that we get an accuracy of about 81% and a MAE Score of 0.23 using Logistic Regression. Now we will check the accuracy using a SVM.**"
   ]
  },
  {
   "cell_type": "code",
   "execution_count": 18,
   "metadata": {},
   "outputs": [
    {
     "name": "stdout",
     "output_type": "stream",
     "text": [
      "0.2468354430379747\n",
      "\n",
      "The accuracy of the classifier is: 0.8063291139240506\n"
     ]
    },
    {
     "data": {
      "text/html": [
       "<div>\n",
       "<style scoped>\n",
       "    .dataframe tbody tr th:only-of-type {\n",
       "        vertical-align: middle;\n",
       "    }\n",
       "\n",
       "    .dataframe tbody tr th {\n",
       "        vertical-align: top;\n",
       "    }\n",
       "\n",
       "    .dataframe thead th {\n",
       "        text-align: right;\n",
       "    }\n",
       "</style>\n",
       "<table border=\"1\" class=\"dataframe\">\n",
       "  <thead>\n",
       "    <tr style=\"text-align: right;\">\n",
       "      <th></th>\n",
       "      <th>Original</th>\n",
       "      <th>Predicted</th>\n",
       "      <th>Diff</th>\n",
       "    </tr>\n",
       "  </thead>\n",
       "  <tbody>\n",
       "    <tr>\n",
       "      <th>0</th>\n",
       "      <td>1</td>\n",
       "      <td>1</td>\n",
       "      <td>0</td>\n",
       "    </tr>\n",
       "    <tr>\n",
       "      <th>1</th>\n",
       "      <td>1</td>\n",
       "      <td>1</td>\n",
       "      <td>0</td>\n",
       "    </tr>\n",
       "    <tr>\n",
       "      <th>2</th>\n",
       "      <td>1</td>\n",
       "      <td>1</td>\n",
       "      <td>0</td>\n",
       "    </tr>\n",
       "    <tr>\n",
       "      <th>3</th>\n",
       "      <td>3</td>\n",
       "      <td>1</td>\n",
       "      <td>2</td>\n",
       "    </tr>\n",
       "    <tr>\n",
       "      <th>4</th>\n",
       "      <td>1</td>\n",
       "      <td>1</td>\n",
       "      <td>0</td>\n",
       "    </tr>\n",
       "  </tbody>\n",
       "</table>\n",
       "</div>"
      ],
      "text/plain": [
       "   Original  Predicted  Diff\n",
       "0         1          1     0\n",
       "1         1          1     0\n",
       "2         1          1     0\n",
       "3         3          1     2\n",
       "4         1          1     0"
      ]
     },
     "execution_count": 18,
     "metadata": {},
     "output_type": "execute_result"
    }
   ],
   "source": [
    "from sklearn import svm\n",
    "\n",
    "classifier = svm.SVC()\n",
    "classifier.fit(x_train, y_train)\n",
    "pred = classifier.predict(x_test)\n",
    "#print(pred)\n",
    "\n",
    "comp = pd.DataFrame({'Original':y_test, 'Predicted':pred})\n",
    "comp['Diff'] = comp['Original'] - comp['Predicted']\n",
    "\n",
    "score = metrics.r2_score(y_test, pred)\n",
    "score = classifier.score(x_test, y_test)\n",
    "\n",
    "mae = metrics.mean_absolute_error(y_test, pred)\n",
    "print(mae)\n",
    "\n",
    "print('\\nThe accuracy of the classifier is:', score)\n",
    "comp.head()\n"
   ]
  },
  {
   "cell_type": "markdown",
   "metadata": {},
   "source": [
    "**We can observe that we get an accuracy of about 80% and a MAE Score of 0.24 using SVM. Now we will check the accuracy using a Desicion Tree.**"
   ]
  },
  {
   "cell_type": "code",
   "execution_count": 19,
   "metadata": {},
   "outputs": [
    {
     "name": "stdout",
     "output_type": "stream",
     "text": [
      "\n",
      "The Mean Absolute Error of the classifier is: 0.28164556962025317\n",
      "\n",
      "The accuracy of the classifier is: 0.769620253164557\n"
     ]
    },
    {
     "data": {
      "text/html": [
       "<div>\n",
       "<style scoped>\n",
       "    .dataframe tbody tr th:only-of-type {\n",
       "        vertical-align: middle;\n",
       "    }\n",
       "\n",
       "    .dataframe tbody tr th {\n",
       "        vertical-align: top;\n",
       "    }\n",
       "\n",
       "    .dataframe thead th {\n",
       "        text-align: right;\n",
       "    }\n",
       "</style>\n",
       "<table border=\"1\" class=\"dataframe\">\n",
       "  <thead>\n",
       "    <tr style=\"text-align: right;\">\n",
       "      <th></th>\n",
       "      <th>Original</th>\n",
       "      <th>Predicted</th>\n",
       "      <th>Diff</th>\n",
       "    </tr>\n",
       "  </thead>\n",
       "  <tbody>\n",
       "    <tr>\n",
       "      <th>0</th>\n",
       "      <td>1</td>\n",
       "      <td>1</td>\n",
       "      <td>0</td>\n",
       "    </tr>\n",
       "    <tr>\n",
       "      <th>1</th>\n",
       "      <td>1</td>\n",
       "      <td>1</td>\n",
       "      <td>0</td>\n",
       "    </tr>\n",
       "    <tr>\n",
       "      <th>2</th>\n",
       "      <td>1</td>\n",
       "      <td>1</td>\n",
       "      <td>0</td>\n",
       "    </tr>\n",
       "    <tr>\n",
       "      <th>3</th>\n",
       "      <td>3</td>\n",
       "      <td>1</td>\n",
       "      <td>2</td>\n",
       "    </tr>\n",
       "    <tr>\n",
       "      <th>4</th>\n",
       "      <td>1</td>\n",
       "      <td>1</td>\n",
       "      <td>0</td>\n",
       "    </tr>\n",
       "  </tbody>\n",
       "</table>\n",
       "</div>"
      ],
      "text/plain": [
       "   Original  Predicted  Diff\n",
       "0         1          1     0\n",
       "1         1          1     0\n",
       "2         1          1     0\n",
       "3         3          1     2\n",
       "4         1          1     0"
      ]
     },
     "execution_count": 19,
     "metadata": {},
     "output_type": "execute_result"
    }
   ],
   "source": [
    "from sklearn.tree import DecisionTreeClassifier\n",
    "\n",
    "dtree = DecisionTreeClassifier()\n",
    "dtree.fit(x_train, y_train)\n",
    "\n",
    "pred = dtree.predict(x_test)\n",
    "\n",
    "comp = pd.DataFrame({'Original':y_test, 'Predicted':pred})\n",
    "comp['Diff'] = comp['Original'] - comp['Predicted']\n",
    "\n",
    "mae = metrics.mean_absolute_error(y_test, pred)\n",
    "print('\\nThe Mean Absolute Error of the classifier is:', mae)\n",
    "\n",
    "acc = dtree.score(x_test, y_test)\n",
    "print('\\nThe accuracy of the classifier is:', acc)\n",
    "\n",
    "comp.head()"
   ]
  },
  {
   "cell_type": "markdown",
   "metadata": {},
   "source": [
    "**We can observe that we get an accuracy of about 77% and a MAE Score of 0.27 using a Desicion Tree. Now we will check the accuracy using a Random Forest Classifier which are considered to be more robust than a Desicion Tree.**"
   ]
  },
  {
   "cell_type": "code",
   "execution_count": 24,
   "metadata": {},
   "outputs": [
    {
     "name": "stdout",
     "output_type": "stream",
     "text": [
      "0.21772151898734177\n",
      "\n",
      "The accuracy of the classifier is: 0.8215189873417722\n"
     ]
    },
    {
     "data": {
      "text/html": [
       "<div>\n",
       "<style scoped>\n",
       "    .dataframe tbody tr th:only-of-type {\n",
       "        vertical-align: middle;\n",
       "    }\n",
       "\n",
       "    .dataframe tbody tr th {\n",
       "        vertical-align: top;\n",
       "    }\n",
       "\n",
       "    .dataframe thead th {\n",
       "        text-align: right;\n",
       "    }\n",
       "</style>\n",
       "<table border=\"1\" class=\"dataframe\">\n",
       "  <thead>\n",
       "    <tr style=\"text-align: right;\">\n",
       "      <th></th>\n",
       "      <th>Original</th>\n",
       "      <th>Predicted</th>\n",
       "      <th>Diff</th>\n",
       "    </tr>\n",
       "  </thead>\n",
       "  <tbody>\n",
       "    <tr>\n",
       "      <th>0</th>\n",
       "      <td>1</td>\n",
       "      <td>1</td>\n",
       "      <td>0</td>\n",
       "    </tr>\n",
       "    <tr>\n",
       "      <th>1</th>\n",
       "      <td>1</td>\n",
       "      <td>1</td>\n",
       "      <td>0</td>\n",
       "    </tr>\n",
       "    <tr>\n",
       "      <th>2</th>\n",
       "      <td>1</td>\n",
       "      <td>1</td>\n",
       "      <td>0</td>\n",
       "    </tr>\n",
       "    <tr>\n",
       "      <th>3</th>\n",
       "      <td>3</td>\n",
       "      <td>1</td>\n",
       "      <td>2</td>\n",
       "    </tr>\n",
       "    <tr>\n",
       "      <th>4</th>\n",
       "      <td>1</td>\n",
       "      <td>1</td>\n",
       "      <td>0</td>\n",
       "    </tr>\n",
       "  </tbody>\n",
       "</table>\n",
       "</div>"
      ],
      "text/plain": [
       "   Original  Predicted  Diff\n",
       "0         1          1     0\n",
       "1         1          1     0\n",
       "2         1          1     0\n",
       "3         3          1     2\n",
       "4         1          1     0"
      ]
     },
     "execution_count": 24,
     "metadata": {},
     "output_type": "execute_result"
    }
   ],
   "source": [
    "from sklearn.ensemble import RandomForestClassifier\n",
    "\n",
    "classifier = RandomForestClassifier(n_estimators=120)\n",
    "classifier.fit(x_train, y_train)\n",
    "\n",
    "pred = classifier.predict(x_test)\n",
    "#print(pred)\n",
    "\n",
    "comp = pd.DataFrame({'Original':y_test, 'Predicted':pred})\n",
    "comp['Diff'] = comp['Original'] - comp['Predicted']\n",
    "\n",
    "score = metrics.r2_score(y_test, pred)\n",
    "score = classifier.score(x_test, y_test)\n",
    "\n",
    "mae = metrics.mean_absolute_error(y_test, pred)\n",
    "print(mae)\n",
    "\n",
    "print('\\nThe accuracy of the classifier is:', score)\n",
    "comp.head()"
   ]
  },
  {
   "cell_type": "markdown",
   "metadata": {},
   "source": [
    "**And as we can clearly see that the Random Forest Gives a better Accuracy of about 82% and a better MAE Score of 0.217 so, we will be using the Random Forest Classifier for this Prediction Task**"
   ]
  },
  {
   "cell_type": "markdown",
   "metadata": {},
   "source": [
    "### Unsupervised Machine Learning for Analysing the possible solutions for the Problem:\n",
    "\n",
    "Trying to find out if there is any categorical pattern that we are missing we will plot a elbow graph to find the optimum number of clusters for our dataset and then use it to determine the clusters using a scatter plot"
   ]
  },
  {
   "cell_type": "code",
   "execution_count": 21,
   "metadata": {},
   "outputs": [
    {
     "data": {
      "image/png": "[encoded data removed]",
      "text/plain": [
       "<Figure size 432x288 with 1 Axes>"
      ]
     },
     "metadata": {
      "needs_background": "light"
     },
     "output_type": "display_data"
    }
   ],
   "source": [
    "x = df.iloc[:, 1:6].values\n",
    "\n",
    "from sklearn.cluster import KMeans\n",
    "\n",
    "wcss = []\n",
    "for i in range(1, 11):\n",
    "    kmeans = KMeans(n_clusters = i, max_iter = 300)\n",
    "    kmeans.fit(x)\n",
    "    wcss.append(kmeans.inertia_)\n",
    "    \n",
    "wcss\n",
    "\n",
    "plt.plot([i for i in range(1, 11)], wcss)\n",
    "plt.title('The Eblow Graph')\n",
    "plt.xlabel('Clusters')\n",
    "plt.ylabel('WCSS')\n",
    "plt.show()"
   ]
  },
  {
   "cell_type": "markdown",
   "metadata": {},
   "source": [
    "**We can observe that there is a sharp drop in the WCSS at 4 and so, we will take the optimum number of clusters to be 4 clusters**\n",
    "\n",
    "**Now Trying to solve this problem using Clustering Algorithm**\n",
    "\n",
    "### Preparing Hierarchical Clustering Model:\n",
    "\n",
    "### Hierarchical Clustering:\n",
    "It is one of the most accurate ways to find any categorical patterns in unsuervised learning we will create a model using this clustering method and try to visualize it."
   ]
  },
  {
   "cell_type": "code",
   "execution_count": 22,
   "metadata": {},
   "outputs": [
    {
     "data": {
      "text/plain": [
       "4786"
      ]
     },
     "execution_count": 22,
     "metadata": {},
     "output_type": "execute_result"
    }
   ],
   "source": [
    "from sklearn.cluster import AgglomerativeClustering\n",
    "\n",
    "cluster = AgglomerativeClustering(n_clusters = 4, linkage = 'ward')\n",
    "pred = cluster.fit_predict(x)\n",
    "pred\n",
    "df['Categories'] = pred\n",
    "df.head()\n",
    "len(df)"
   ]
  },
  {
   "cell_type": "code",
   "execution_count": 23,
   "metadata": {},
   "outputs": [
    {
     "data": {
      "image/png": "[encoded data removed]",
      "text/plain": [
       "<Figure size 1080x360 with 1 Axes>"
      ]
     },
     "metadata": {
      "needs_background": "light"
     },
     "output_type": "display_data"
    }
   ],
   "source": [
    "df_0 = df[df['Categories'] == 0]\n",
    "df_1 = df[df['Categories'] == 1]\n",
    "df_2 = df[df['Categories'] == 2]\n",
    "df_3 = df[df['Categories'] == 3]\n",
    "#df_4 = df[df['Categories'] == 4]\n",
    "\n",
    "plt.figure(figsize=(15,5))\n",
    "\n",
    "plt.scatter(df_0.iloc[:, 0], df_0.iloc[:, 4] , color = 'b', label = 'Cat_1', s= 50)\n",
    "\n",
    "plt.scatter(df_1.iloc[:, 0], df_1.iloc[:, 4] , color = 'r', label = 'Cat_2', s= 50)\n",
    "\n",
    "plt.scatter(df_2.iloc[:, 0], df_2.iloc[:, 4] , color = 'g', label = 'Cat_3', s= 50)\n",
    "\n",
    "plt.scatter(df_3.iloc[:, 0], df_3.iloc[:, 4] , color = 'orange', label = 'Cat_4', s= 50)\n",
    "\n",
    "#plt.scatter(df_4.iloc[:, 0], df_4.iloc[:, 4] , color = 'purple', label = 'Cat_5', s= 50)\n",
    "\n",
    "#plt.scatter(kmeans.cluster_centers_[:, 0], kmeans.cluster_centers_[:, 1], color = 'y', label = 'Centroids', s = 100)\n",
    "\n",
    "plt.legend()\n",
    "plt.show()"
   ]
  },
  {
   "cell_type": "markdown",
   "metadata": {},
   "source": [
    "**It can be seen that this problem of Delivery Time Prediction Can be solved using clustering method as the data is segregated into 4 clusters.**"
   ]
  }
 ],
 "metadata": {
  "kernelspec": {
   "display_name": "Python 3",
   "language": "python",
   "name": "python3"
  },
  "language_info": {
   "codemirror_mode": {
    "name": "ipython",
    "version": 3
   },
   "file_extension": ".py",
   "mimetype": "text/x-python",
   "name": "python",
   "nbconvert_exporter": "python",
   "pygments_lexer": "ipython3",
   "version": "3.7.7"
  }
 },
 "nbformat": 4,
 "nbformat_minor": 4
}
